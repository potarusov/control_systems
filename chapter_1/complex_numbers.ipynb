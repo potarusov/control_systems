{
 "cells": [
  {
   "cell_type": "markdown",
   "id": "57755ac0",
   "metadata": {},
   "source": [
    "# 1.1. Комлексные числа. Уравнения\n",
    "\n",
    "Модуль и фаза комлексного числа z = a + jb определяются выражениями:"
   ]
  },
  {
   "cell_type": "markdown",
   "id": "411b2d4b-b238-47b1-8c61-4b34f2250ec5",
   "metadata": {
    "tags": []
   },
   "source": [
    "\\begin{align}\n",
    "|z| = \\sqrt{Re(z)^2 + Im(z)^2} \\\\\n",
    "\\end{align}"
   ]
  },
  {
   "cell_type": "markdown",
   "id": "9145876b",
   "metadata": {},
   "source": [
    "\\begin{align}\n",
    "\\phi(z) = Arg(z) = \\begin{cases}\n",
    "  arctg \\frac{Im(z)} {Re(z)} = arctg \\frac{b} {a}, \\quad Re(z) \\geq 0, \\\\\n",
    "  \\pi + arctg \\frac{Im(z)} {Re(z)} = arctg \\frac{b} {a}, \\quad Re(z) < 0, \\\\\n",
    "  \\text{или} \\quad - \\pi + arctg \\frac{Im(z)} {Re(z)} = arctg \\frac{b} {a}, \\quad Re(z) < 0, \\\\\n",
    "\\end{cases}\n",
    "\\end{align}"
   ]
  },
  {
   "cell_type": "markdown",
   "id": "f54fb00c",
   "metadata": {},
   "source": [
    "## 1.4*. Представить числа в показательной форме:"
   ]
  },
  {
   "cell_type": "markdown",
   "id": "64ff8107",
   "metadata": {},
   "source": [
    "### 1.4.1* z = 7 + j8"
   ]
  },
  {
   "cell_type": "code",
   "execution_count": 2,
   "id": "4c52af8b",
   "metadata": {
    "scrolled": true
   },
   "outputs": [
    {
     "name": "stdout",
     "output_type": "stream",
     "text": [
      "|z| =  10.63014581273465\n",
      "phi_rads =  0.8519663271732721\n",
      "phi_degrees =  48.81407483429036\n"
     ]
    },
    {
     "data": {
      "text/plain": [
       "(10.63014581273465, 0.8519663271732721)"
      ]
     },
     "execution_count": 2,
     "metadata": {},
     "output_type": "execute_result"
    }
   ],
   "source": [
    "import math\n",
    "import numpy\n",
    "\n",
    "re_z = 7.0\n",
    "im_z = 8.0\n",
    "\n",
    "def compute_modulus_and_phi(re_z, im_z):\n",
    "    modulus_z = math.sqrt(re_z * re_z + im_z * im_z)\n",
    "    print('|z| = ', modulus_z)\n",
    "\n",
    "    phi_z_rads = numpy.arctan2(im_z, re_z)\n",
    "    phi_z_degrees = phi_z_rads * 180/math.pi\n",
    "    print('phi_rads = ', phi_z_rads)\n",
    "    print('phi_degrees = ', phi_z_degrees)\n",
    "    return modulus_z, phi_z_rads\n",
    "\n",
    "compute_modulus_and_phi(re_z, im_z)"
   ]
  },
  {
   "cell_type": "markdown",
   "id": "47614067",
   "metadata": {},
   "source": [
    "### 1.4.2* z = 16 - j7"
   ]
  },
  {
   "cell_type": "code",
   "execution_count": 3,
   "id": "9ce5b9f9",
   "metadata": {
    "scrolled": true
   },
   "outputs": [
    {
     "name": "stdout",
     "output_type": "stream",
     "text": [
      "|z| =  17.46424919657298\n",
      "phi_rads =  -0.4124104415973873\n",
      "phi_degrees =  -23.62937773065682\n"
     ]
    },
    {
     "data": {
      "text/plain": [
       "(17.46424919657298, -0.4124104415973873)"
      ]
     },
     "execution_count": 3,
     "metadata": {},
     "output_type": "execute_result"
    }
   ],
   "source": [
    "re_z = 16.0\n",
    "im_z = -7.0\n",
    "\n",
    "compute_modulus_and_phi(re_z, im_z)"
   ]
  },
  {
   "cell_type": "markdown",
   "id": "50ea8e86",
   "metadata": {},
   "source": [
    "### 1.4.3* z = -8 - j5"
   ]
  },
  {
   "cell_type": "code",
   "execution_count": 4,
   "id": "7dee0385",
   "metadata": {
    "scrolled": true
   },
   "outputs": [
    {
     "name": "stdout",
     "output_type": "stream",
     "text": [
      "|z| =  9.433981132056603\n",
      "phi_rads =  -2.5829933382462307\n",
      "phi_degrees =  -147.99461679191648\n"
     ]
    },
    {
     "data": {
      "text/plain": [
       "(9.433981132056603, -2.5829933382462307)"
      ]
     },
     "execution_count": 4,
     "metadata": {},
     "output_type": "execute_result"
    }
   ],
   "source": [
    "re_z = -8.0\n",
    "im_z = -5.0\n",
    "\n",
    "compute_modulus_and_phi(re_z, im_z)"
   ]
  },
  {
   "cell_type": "markdown",
   "id": "9fbf3494",
   "metadata": {},
   "source": [
    "### 1.4.4* z = j10"
   ]
  },
  {
   "cell_type": "code",
   "execution_count": 5,
   "id": "5418bcab",
   "metadata": {},
   "outputs": [
    {
     "name": "stdout",
     "output_type": "stream",
     "text": [
      "|z| =  10.0\n",
      "phi_rads =  1.5707963267948966\n",
      "phi_degrees =  90.0\n"
     ]
    },
    {
     "data": {
      "text/plain": [
       "(10.0, 1.5707963267948966)"
      ]
     },
     "execution_count": 5,
     "metadata": {},
     "output_type": "execute_result"
    }
   ],
   "source": [
    "re_z = 0.0\n",
    "im_z = 10.0\n",
    "\n",
    "compute_modulus_and_phi(re_z, im_z)"
   ]
  },
  {
   "cell_type": "markdown",
   "id": "31a30e01",
   "metadata": {},
   "source": [
    "### 1.4.5* z = -4"
   ]
  },
  {
   "cell_type": "code",
   "execution_count": 6,
   "id": "c6ee67fe",
   "metadata": {},
   "outputs": [
    {
     "name": "stdout",
     "output_type": "stream",
     "text": [
      "|z| =  4.0\n",
      "phi_rads =  3.141592653589793\n",
      "phi_degrees =  180.0\n"
     ]
    },
    {
     "data": {
      "text/plain": [
       "(4.0, 3.141592653589793)"
      ]
     },
     "execution_count": 6,
     "metadata": {},
     "output_type": "execute_result"
    }
   ],
   "source": [
    "re_z = -4.0\n",
    "im_z = 0.0\n",
    "\n",
    "compute_modulus_and_phi(re_z, im_z)"
   ]
  },
  {
   "cell_type": "markdown",
   "id": "5e704ecb",
   "metadata": {},
   "source": [
    "### 1.4.6* z = -8 + j8"
   ]
  },
  {
   "cell_type": "code",
   "execution_count": 7,
   "id": "e740985f",
   "metadata": {},
   "outputs": [
    {
     "name": "stdout",
     "output_type": "stream",
     "text": [
      "|z| =  11.313708498984761\n",
      "phi_rads =  2.356194490192345\n",
      "phi_degrees =  135.0\n"
     ]
    },
    {
     "data": {
      "text/plain": [
       "(11.313708498984761, 2.356194490192345)"
      ]
     },
     "execution_count": 7,
     "metadata": {},
     "output_type": "execute_result"
    }
   ],
   "source": [
    "re_z = -8.0\n",
    "im_z = 8.0\n",
    "\n",
    "compute_modulus_and_phi(re_z, im_z)"
   ]
  },
  {
   "cell_type": "markdown",
   "id": "111e7a56",
   "metadata": {},
   "source": [
    "### 1.4.7* z = 4 - j2"
   ]
  },
  {
   "cell_type": "code",
   "execution_count": 8,
   "id": "6583d208",
   "metadata": {},
   "outputs": [
    {
     "name": "stdout",
     "output_type": "stream",
     "text": [
      "|z| =  4.47213595499958\n",
      "phi_rads =  -0.4636476090008061\n",
      "phi_degrees =  -26.56505117707799\n"
     ]
    },
    {
     "data": {
      "text/plain": [
       "(4.47213595499958, -0.4636476090008061)"
      ]
     },
     "execution_count": 8,
     "metadata": {},
     "output_type": "execute_result"
    }
   ],
   "source": [
    "re_z = 4.0\n",
    "im_z = -2.0\n",
    "\n",
    "compute_modulus_and_phi(re_z, im_z)"
   ]
  },
  {
   "cell_type": "markdown",
   "id": "3df77ea5",
   "metadata": {},
   "source": [
    "### 1.4.8* z = -1 + j10"
   ]
  },
  {
   "cell_type": "code",
   "execution_count": 9,
   "id": "9bfe2656",
   "metadata": {},
   "outputs": [
    {
     "name": "stdout",
     "output_type": "stream",
     "text": [
      "|z| =  10.04987562112089\n",
      "phi_rads =  1.6704649792860586\n",
      "phi_degrees =  95.71059313749964\n"
     ]
    },
    {
     "data": {
      "text/plain": [
       "(10.04987562112089, 1.6704649792860586)"
      ]
     },
     "execution_count": 9,
     "metadata": {},
     "output_type": "execute_result"
    }
   ],
   "source": [
    "re_z = -1.0\n",
    "im_z = 10.0\n",
    "\n",
    "compute_modulus_and_phi(re_z, im_z)"
   ]
  },
  {
   "cell_type": "markdown",
   "id": "45d96f9c",
   "metadata": {},
   "source": [
    "### 1.4.9* z = 3"
   ]
  },
  {
   "cell_type": "code",
   "execution_count": 10,
   "id": "b57361f4",
   "metadata": {
    "scrolled": true
   },
   "outputs": [
    {
     "name": "stdout",
     "output_type": "stream",
     "text": [
      "|z| =  3.0\n",
      "phi_rads =  0.0\n",
      "phi_degrees =  0.0\n"
     ]
    },
    {
     "data": {
      "text/plain": [
       "(3.0, 0.0)"
      ]
     },
     "execution_count": 10,
     "metadata": {},
     "output_type": "execute_result"
    }
   ],
   "source": [
    "re_z = 3.0\n",
    "im_z = 0.0\n",
    "\n",
    "compute_modulus_and_phi(re_z, im_z)"
   ]
  },
  {
   "cell_type": "markdown",
   "id": "893b8af0",
   "metadata": {},
   "source": [
    "### 1.4.10* z = -5 - j20"
   ]
  },
  {
   "cell_type": "code",
   "execution_count": 11,
   "id": "921d4b09",
   "metadata": {},
   "outputs": [
    {
     "name": "stdout",
     "output_type": "stream",
     "text": [
      "|z| =  20.615528128088304\n",
      "phi_rads =  -1.8157749899217608\n",
      "phi_degrees =  -104.0362434679265\n"
     ]
    },
    {
     "data": {
      "text/plain": [
       "(20.615528128088304, -1.8157749899217608)"
      ]
     },
     "execution_count": 11,
     "metadata": {},
     "output_type": "execute_result"
    }
   ],
   "source": [
    "re_z = -5.0\n",
    "im_z = -20.0\n",
    "\n",
    "compute_modulus_and_phi(re_z, im_z)"
   ]
  },
  {
   "cell_type": "markdown",
   "id": "ba526f8d",
   "metadata": {},
   "source": [
    "\\begin{align}\n",
    "z^n = |z|^n (cos(n \\phi) + j sin(n \\phi))\n",
    "\\end{align}"
   ]
  },
  {
   "cell_type": "markdown",
   "id": "162fa028",
   "metadata": {},
   "source": [
    "## 1.5.* Вычислить"
   ]
  },
  {
   "cell_type": "markdown",
   "id": "944d9703",
   "metadata": {},
   "source": [
    "### 1.5.1*"
   ]
  },
  {
   "cell_type": "markdown",
   "id": "a888adf1",
   "metadata": {},
   "source": [
    "\\begin{equation}\n",
    "(5 + j * 8)^3\n",
    "\\end{equation}"
   ]
  },
  {
   "cell_type": "code",
   "execution_count": 12,
   "id": "735d668a",
   "metadata": {},
   "outputs": [
    {
     "name": "stdout",
     "output_type": "stream",
     "text": [
      "|z| =  9.433981132056603\n",
      "phi_rads =  1.0121970114513341\n",
      "phi_degrees =  57.9946167919165\n",
      "New_complex_number :  -834.9999999999998 + j * 88.00000000000014\n"
     ]
    },
    {
     "data": {
      "text/plain": [
       "(-834.9999999999998, 88.00000000000014)"
      ]
     },
     "execution_count": 12,
     "metadata": {},
     "output_type": "execute_result"
    }
   ],
   "source": [
    "def complex_pow(re_z, im_z, power):\n",
    "    modulus_z, phi_rads = compute_modulus_and_phi(re_z, im_z)\n",
    "    \n",
    "    new_modulus = pow(modulus_z, power)\n",
    "    cos_n_phi = math.cos(power * phi_rads)\n",
    "    sin_n_phi = math.sin(power * phi_rads)\n",
    "    new_re_z = new_modulus * cos_n_phi\n",
    "    new_im_z = new_modulus * sin_n_phi\n",
    "    print('New_complex_number : ', new_re_z, '+ j *', new_im_z)\n",
    "    \n",
    "    return new_re_z, new_im_z\n",
    "\n",
    "complex_pow(5, 8, 3)\n"
   ]
  },
  {
   "cell_type": "markdown",
   "id": "22715ae2",
   "metadata": {},
   "source": [
    "### 1.5.2*"
   ]
  },
  {
   "cell_type": "markdown",
   "id": "1d6fcf0b",
   "metadata": {},
   "source": [
    "\\begin{equation}\n",
    "(4 + j * 9)^\\frac{1} {4}\n",
    "\\end{equation}"
   ]
  },
  {
   "cell_type": "code",
   "execution_count": 13,
   "id": "5408c3eb",
   "metadata": {},
   "outputs": [
    {
     "name": "stdout",
     "output_type": "stream",
     "text": [
      "|z| =  9.848857801796104\n",
      "phi_rads =  1.1525719972156676\n",
      "phi_degrees =  66.03751102542182\n",
      "New_complex_number :  1.6984875556519137 + j * 0.5034173378128559\n"
     ]
    },
    {
     "data": {
      "text/plain": [
       "(1.6984875556519137, 0.5034173378128559)"
      ]
     },
     "execution_count": 13,
     "metadata": {},
     "output_type": "execute_result"
    }
   ],
   "source": [
    "complex_pow(4, 9, 1/4)"
   ]
  },
  {
   "cell_type": "markdown",
   "id": "f0b53fe2",
   "metadata": {},
   "source": [
    "### 1.5.3*"
   ]
  },
  {
   "cell_type": "markdown",
   "id": "1b125d60",
   "metadata": {},
   "source": [
    "\\begin{equation}\n",
    "(-10 - j * 17)^5\n",
    "\\end{equation}"
   ]
  },
  {
   "cell_type": "code",
   "execution_count": 14,
   "id": "af0a34ad",
   "metadata": {},
   "outputs": [
    {
     "name": "stdout",
     "output_type": "stream",
     "text": [
      "|z| =  19.72308292331602\n",
      "phi_rads =  -2.1025203940537023\n",
      "phi_degrees =  -120.46554491945989\n",
      "New_complex_number :  -1386050.0000000005 + j * 2643143.0000000005\n"
     ]
    },
    {
     "data": {
      "text/plain": [
       "(-1386050.0000000005, 2643143.0000000005)"
      ]
     },
     "execution_count": 14,
     "metadata": {},
     "output_type": "execute_result"
    }
   ],
   "source": [
    "complex_pow(-10, -17, 5)"
   ]
  },
  {
   "cell_type": "markdown",
   "id": "b8a6c461",
   "metadata": {},
   "source": [
    "\\begin{align}\n",
    "ln(z) = ln|z| + j \\phi (z), \\quad lg(z) = lg|z| + j \\phi (z) * lg (e)\n",
    "\\end{align}"
   ]
  },
  {
   "cell_type": "markdown",
   "id": "6f923199",
   "metadata": {},
   "source": [
    "### 1.5.6*"
   ]
  },
  {
   "cell_type": "markdown",
   "id": "da18d120",
   "metadata": {},
   "source": [
    "\\begin{align}\n",
    "ln(5 + j8)\n",
    "\\end{align}"
   ]
  },
  {
   "cell_type": "code",
   "execution_count": 15,
   "id": "df01cc93",
   "metadata": {},
   "outputs": [
    {
     "name": "stdout",
     "output_type": "stream",
     "text": [
      "|z| =  9.433981132056603\n",
      "phi_rads =  1.0121970114513341\n",
      "phi_degrees =  57.9946167919165\n",
      "New_complex_number :  2.24431818486607 + j * 1.0121970114513341\n"
     ]
    }
   ],
   "source": [
    "def compute_ln(re_z, im_z):\n",
    "    modulus_z, phi_rads = compute_modulus_and_phi(re_z, im_z)\n",
    "    ln_modulus_z = math.log(modulus_z)\n",
    "    print('New_complex_number : ', ln_modulus_z, '+ j *', phi_rads)\n",
    "\n",
    "compute_ln(5, 8)"
   ]
  },
  {
   "cell_type": "markdown",
   "id": "662050b2",
   "metadata": {},
   "source": [
    "### 1.5.7*"
   ]
  },
  {
   "cell_type": "markdown",
   "id": "9b524eb8",
   "metadata": {},
   "source": [
    "\\begin{align}\n",
    "log(4 - j9)\n",
    "\\end{align}"
   ]
  },
  {
   "cell_type": "code",
   "execution_count": 16,
   "id": "b2989e7f",
   "metadata": {},
   "outputs": [
    {
     "name": "stdout",
     "output_type": "stream",
     "text": [
      "|z| =  9.848857801796104\n",
      "phi_rads =  -1.1525719972156676\n",
      "phi_degrees =  -66.03751102542182\n",
      "New_complex_number :  0.9933858671331224 + j * -0.5005556583869746\n"
     ]
    }
   ],
   "source": [
    "def compute_log(re_z, im_z):\n",
    "    modulus_z, phi_rads = compute_modulus_and_phi(re_z, im_z)\n",
    "    log_modulus_z = math.log(modulus_z, 10)\n",
    "    print('New_complex_number : ', log_modulus_z, '+ j *', phi_rads * math.log10(math.exp(1)))\n",
    "\n",
    "compute_log(4, -9)"
   ]
  },
  {
   "cell_type": "markdown",
   "id": "51a44369",
   "metadata": {},
   "source": [
    "### 1.5.8*"
   ]
  },
  {
   "cell_type": "markdown",
   "id": "e8fcd37c",
   "metadata": {},
   "source": [
    "\\begin{align}\n",
    "ln(5 + j8)^2\n",
    "\\end{align}"
   ]
  },
  {
   "cell_type": "code",
   "execution_count": 17,
   "id": "a73b6377",
   "metadata": {},
   "outputs": [
    {
     "name": "stdout",
     "output_type": "stream",
     "text": [
      "|z| =  9.433981132056603\n",
      "phi_rads =  1.0121970114513341\n",
      "phi_degrees =  57.9946167919165\n",
      "New_complex_number :  -38.999999999999986 + j * 80.0\n",
      "|z| =  89.0\n",
      "phi_rads =  2.0243940229026682\n",
      "phi_degrees =  115.989233583833\n",
      "New_complex_number :  4.48863636973214 + j * 2.0243940229026682\n"
     ]
    }
   ],
   "source": [
    "re_z, im_z = complex_pow(5, 8, 2)\n",
    "compute_ln(re_z, im_z)"
   ]
  },
  {
   "cell_type": "markdown",
   "id": "cdb27b34",
   "metadata": {},
   "source": [
    "### 1.5.9*"
   ]
  },
  {
   "cell_type": "markdown",
   "id": "be67b98c",
   "metadata": {},
   "source": [
    "\\begin{align}\n",
    "log(-120 + j40)\n",
    "\\end{align}"
   ]
  },
  {
   "cell_type": "code",
   "execution_count": 18,
   "id": "9bd71a1d",
   "metadata": {},
   "outputs": [
    {
     "name": "stdout",
     "output_type": "stream",
     "text": [
      "|z| =  126.49110640673517\n",
      "phi_rads =  2.819842099193151\n",
      "phi_degrees =  161.56505117707798\n",
      "New_complex_number :  2.102059991327962 + j * 1.2246418635180676\n"
     ]
    }
   ],
   "source": [
    "compute_log(-120, 40)"
   ]
  },
  {
   "cell_type": "markdown",
   "id": "ba6415c2",
   "metadata": {},
   "source": [
    "### 1.5.10*"
   ]
  },
  {
   "cell_type": "markdown",
   "id": "7b984825",
   "metadata": {},
   "source": [
    "\\begin{align}\n",
    "ln(-10 - j7)\n",
    "\\end{align}"
   ]
  },
  {
   "cell_type": "code",
   "execution_count": 19,
   "id": "4cef9aa9",
   "metadata": {},
   "outputs": [
    {
     "name": "stdout",
     "output_type": "stream",
     "text": [
      "|z| =  12.206555615733702\n",
      "phi_rads =  -2.5308666892005847\n",
      "phi_degrees =  -145.00797980144134\n",
      "New_complex_number :  2.5019731529727296 + j * -2.5308666892005847\n"
     ]
    }
   ],
   "source": [
    "compute_ln(-10, -7)"
   ]
  },
  {
   "cell_type": "markdown",
   "id": "6b90f13e",
   "metadata": {},
   "source": [
    "### 1.5.11*"
   ]
  },
  {
   "cell_type": "markdown",
   "id": "aa0b1823",
   "metadata": {},
   "source": [
    "\\begin{align}\n",
    "log(-3 + j4)^3\n",
    "\\end{align}"
   ]
  },
  {
   "cell_type": "code",
   "execution_count": 20,
   "id": "b3e4bb94",
   "metadata": {},
   "outputs": [
    {
     "name": "stdout",
     "output_type": "stream",
     "text": [
      "|z| =  5.0\n",
      "phi_rads =  2.214297435588181\n",
      "phi_degrees =  126.86989764584402\n",
      "New_complex_number :  117.00000000000001 + j * 43.999999999999936\n",
      "|z| =  124.99999999999999\n",
      "phi_rads =  0.359706999584956\n",
      "phi_degrees =  20.609692937532035\n",
      "New_complex_number :  2.096910013008056 + j * 0.1562187650217217\n"
     ]
    }
   ],
   "source": [
    "re_z, im_z = complex_pow(-3, 4, 3)\n",
    "compute_log(re_z, im_z)"
   ]
  },
  {
   "cell_type": "markdown",
   "id": "915ee2d9",
   "metadata": {},
   "source": [
    "### 1.5.12*"
   ]
  },
  {
   "cell_type": "markdown",
   "id": "877b68b3",
   "metadata": {},
   "source": [
    "\\begin{align}\n",
    "ln(-3 + j4)\n",
    "\\end{align}"
   ]
  },
  {
   "cell_type": "code",
   "execution_count": 21,
   "id": "ed9d3411",
   "metadata": {},
   "outputs": [
    {
     "name": "stdout",
     "output_type": "stream",
     "text": [
      "|z| =  5.0\n",
      "phi_rads =  2.214297435588181\n",
      "phi_degrees =  126.86989764584402\n",
      "New_complex_number :  1.6094379124341003 + j * 2.214297435588181\n"
     ]
    }
   ],
   "source": [
    "compute_ln(-3, 4)"
   ]
  },
  {
   "cell_type": "markdown",
   "id": "537d4b87",
   "metadata": {},
   "source": [
    "## 1.6*. Найти корни уравнений:"
   ]
  },
  {
   "cell_type": "code",
   "execution_count": 22,
   "id": "ddae8456",
   "metadata": {},
   "outputs": [],
   "source": [
    "# import complex math module\n",
    "import cmath\n",
    "\n",
    "# Solve the quadratic equation ax**2 + bx + c = 0\n",
    "def solve_quadratic_equation(a, b, c):\n",
    "    # calculate the discriminant\n",
    "    d = (b**2) - (4*a*c)\n",
    "\n",
    "    # find two solutions\n",
    "    sol1 = (-b-cmath.sqrt(d))/(2*a)\n",
    "    sol2 = (-b+cmath.sqrt(d))/(2*a)\n",
    "\n",
    "    print('The solution are {0} and {1}'.format(sol1,sol2))"
   ]
  },
  {
   "cell_type": "markdown",
   "id": "9c3ebba7",
   "metadata": {},
   "source": [
    "### 1.6.1*"
   ]
  },
  {
   "cell_type": "markdown",
   "id": "b45845b7",
   "metadata": {},
   "source": [
    "\\begin{align}\n",
    "4x^2 + 8x + 32 = 0\n",
    "\\end{align}"
   ]
  },
  {
   "cell_type": "code",
   "execution_count": 23,
   "id": "acdfc54e",
   "metadata": {},
   "outputs": [
    {
     "name": "stdout",
     "output_type": "stream",
     "text": [
      "The solution are (-1-2.6457513110645907j) and (-1+2.6457513110645907j)\n"
     ]
    }
   ],
   "source": [
    "solve_quadratic_equation(4, 8, 32)"
   ]
  },
  {
   "cell_type": "markdown",
   "id": "294505b1",
   "metadata": {},
   "source": [
    "### 1.6.2*"
   ]
  },
  {
   "cell_type": "markdown",
   "id": "11cf79a1",
   "metadata": {},
   "source": [
    "\\begin{align}\n",
    "x^2 + 10x + 16 = 0\n",
    "\\end{align}"
   ]
  },
  {
   "cell_type": "code",
   "execution_count": 24,
   "id": "7d0442a2",
   "metadata": {},
   "outputs": [
    {
     "name": "stdout",
     "output_type": "stream",
     "text": [
      "The solution are (-8+0j) and (-2+0j)\n"
     ]
    }
   ],
   "source": [
    "solve_quadratic_equation(1, 10, 16)"
   ]
  },
  {
   "cell_type": "markdown",
   "id": "0d40546c",
   "metadata": {},
   "source": [
    "### 1.6.3*"
   ]
  },
  {
   "cell_type": "markdown",
   "id": "10c6cec0",
   "metadata": {},
   "source": [
    "\\begin{align}\n",
    "3x^2 + 18x + 27 = 0\n",
    "\\end{align}"
   ]
  },
  {
   "cell_type": "code",
   "execution_count": 25,
   "id": "4d05eba0",
   "metadata": {},
   "outputs": [
    {
     "name": "stdout",
     "output_type": "stream",
     "text": [
      "The solution are (-3+0j) and (-3+0j)\n"
     ]
    }
   ],
   "source": [
    "solve_quadratic_equation(3, 18, 27)"
   ]
  },
  {
   "cell_type": "markdown",
   "id": "2894f597",
   "metadata": {},
   "source": [
    "### 1.6.4*"
   ]
  },
  {
   "cell_type": "markdown",
   "id": "52726e89",
   "metadata": {},
   "source": [
    "\\begin{align}\n",
    "x^2 + 12x + 32 = 0\n",
    "\\end{align}"
   ]
  },
  {
   "cell_type": "code",
   "execution_count": 26,
   "id": "4ffa6c7a",
   "metadata": {},
   "outputs": [
    {
     "name": "stdout",
     "output_type": "stream",
     "text": [
      "The solution are (-8+0j) and (-4+0j)\n"
     ]
    }
   ],
   "source": [
    "solve_quadratic_equation(1, 12, 32)"
   ]
  },
  {
   "cell_type": "markdown",
   "id": "6f6a165d",
   "metadata": {},
   "source": [
    "### 1.6.5*"
   ]
  },
  {
   "cell_type": "markdown",
   "id": "483919ef",
   "metadata": {},
   "source": [
    "\\begin{align}\n",
    "5x^2 + 25x + 35 = 0\n",
    "\\end{align}"
   ]
  },
  {
   "cell_type": "code",
   "execution_count": 27,
   "id": "518525e8",
   "metadata": {},
   "outputs": [
    {
     "name": "stdout",
     "output_type": "stream",
     "text": [
      "The solution are (-2.5-0.8660254037844387j) and (-2.5+0.8660254037844387j)\n"
     ]
    }
   ],
   "source": [
    "solve_quadratic_equation(5, 25, 35)"
   ]
  },
  {
   "cell_type": "markdown",
   "id": "0f51275a",
   "metadata": {},
   "source": [
    "### 1.6.6*"
   ]
  },
  {
   "cell_type": "markdown",
   "id": "cc00c23c",
   "metadata": {},
   "source": [
    "\\begin{align}\n",
    "x^2 + 4x + 8 = 0\n",
    "\\end{align}"
   ]
  },
  {
   "cell_type": "code",
   "execution_count": 28,
   "id": "5da9a023",
   "metadata": {},
   "outputs": [
    {
     "name": "stdout",
     "output_type": "stream",
     "text": [
      "The solution are (-2-2j) and (-2+2j)\n"
     ]
    }
   ],
   "source": [
    "solve_quadratic_equation(1, 4, 8)"
   ]
  }
 ],
 "metadata": {
  "kernelspec": {
   "display_name": "Python 3 (ipykernel)",
   "language": "python",
   "name": "python3"
  },
  "language_info": {
   "codemirror_mode": {
    "name": "ipython",
    "version": 3
   },
   "file_extension": ".py",
   "mimetype": "text/x-python",
   "name": "python",
   "nbconvert_exporter": "python",
   "pygments_lexer": "ipython3",
   "version": "3.11.1"
  }
 },
 "nbformat": 4,
 "nbformat_minor": 5
}
