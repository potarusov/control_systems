{
 "cells": [
  {
   "cell_type": "markdown",
   "id": "be28b23f",
   "metadata": {},
   "source": [
    "## 1.11*. Найти произведения"
   ]
  },
  {
   "cell_type": "markdown",
   "id": "966a7456",
   "metadata": {},
   "source": [
    "### 1.11.1*"
   ]
  },
  {
   "cell_type": "markdown",
   "id": "89d509b7",
   "metadata": {},
   "source": [
    "\\begin{bmatrix}\n",
    "3 & 4 \\\\\n",
    "2 & 1 \\\\\n",
    "3 & 0\n",
    "\\end{bmatrix}\n",
    "\\begin{align}\n",
    "\\times\n",
    "\\end{align}\n",
    "\\begin{bmatrix}\n",
    "2 & 1 & 4 \\\\\n",
    "0 & 1 & 5\n",
    "\\end{bmatrix}"
   ]
  },
  {
   "cell_type": "code",
   "execution_count": 46,
   "id": "ab128930",
   "metadata": {},
   "outputs": [],
   "source": [
    "import numpy as np"
   ]
  },
  {
   "cell_type": "code",
   "execution_count": 47,
   "id": "3238d593",
   "metadata": {},
   "outputs": [
    {
     "data": {
      "text/plain": [
       "array([[ 6,  7, 32],\n",
       "       [ 4,  3, 13],\n",
       "       [ 6,  3, 12]])"
      ]
     },
     "execution_count": 47,
     "metadata": {},
     "output_type": "execute_result"
    }
   ],
   "source": [
    "a = np.array([[3,4],\n",
    "            [2,1],\n",
    "            [3,0]])\n",
    "b = np.array([[2, 1, 4], [0, 1, 5]])\n",
    "c = np.dot(a, b)\n",
    "c"
   ]
  },
  {
   "cell_type": "markdown",
   "id": "020e55f6",
   "metadata": {},
   "source": [
    "### 1.11.4*"
   ]
  },
  {
   "cell_type": "markdown",
   "id": "1185cc84",
   "metadata": {},
   "source": [
    "\\begin{bmatrix}\n",
    "2 & 1 & 1\n",
    "\\end{bmatrix}\n",
    "\\begin{align}\n",
    "\\times\n",
    "\\end{align}\n",
    "\\begin{bmatrix}\n",
    "3 & 4 & 3 \\\\\n",
    "4 & 1 & 2 \\\\\n",
    "5 & 0 & 1\n",
    "\\end{bmatrix}"
   ]
  },
  {
   "cell_type": "code",
   "execution_count": 48,
   "id": "701d4ab2",
   "metadata": {},
   "outputs": [
    {
     "data": {
      "text/plain": [
       "array([15,  9,  9])"
      ]
     },
     "execution_count": 48,
     "metadata": {},
     "output_type": "execute_result"
    }
   ],
   "source": [
    "a = np.array([2, 1, 1])\n",
    "b = np.array([[3, 4, 3], [4, 1, 2], [5, 0, 1]])\n",
    "c = np.dot(a, b)\n",
    "c"
   ]
  },
  {
   "cell_type": "markdown",
   "id": "c55ff504",
   "metadata": {},
   "source": [
    "### 1.11.5*"
   ]
  },
  {
   "cell_type": "markdown",
   "id": "5fa248f7",
   "metadata": {},
   "source": [
    "\\begin{bmatrix}\n",
    "3 \\\\\n",
    "1 \\\\\n",
    "2\n",
    "\\end{bmatrix}\n",
    "\\begin{align}\n",
    "\\times\n",
    "\\end{align}\n",
    "\\begin{bmatrix}\n",
    "5 & 6 & 7\n",
    "\\end{bmatrix}"
   ]
  },
  {
   "cell_type": "code",
   "execution_count": 49,
   "id": "53c8d992",
   "metadata": {},
   "outputs": [
    {
     "data": {
      "text/plain": [
       "array([[15, 18, 21],\n",
       "       [ 5,  6,  7],\n",
       "       [10, 12, 14]])"
      ]
     },
     "execution_count": 49,
     "metadata": {},
     "output_type": "execute_result"
    }
   ],
   "source": [
    "a = np.array([[3],\n",
    "              [1],\n",
    "              [2]])\n",
    "b = np.array([[5, 6, 7]])\n",
    "c = np.dot(a, b)\n",
    "c"
   ]
  },
  {
   "cell_type": "markdown",
   "id": "06921a2e",
   "metadata": {},
   "source": [
    "### 1.11.6*"
   ]
  },
  {
   "cell_type": "markdown",
   "id": "e6fd0709",
   "metadata": {},
   "source": [
    "\\begin{bmatrix}\n",
    "3 & 2 & 7\\\\\n",
    "1 & 4 & 8\\\\\n",
    "2 & 5 & 10\n",
    "\\end{bmatrix}\n",
    "\\begin{align}\n",
    "\\times\n",
    "\\end{align}\n",
    "\\begin{bmatrix}\n",
    "-5 & 2 \\\\\n",
    "0 & 1 \\\\\n",
    "-7 & 3\n",
    "\\end{bmatrix}"
   ]
  },
  {
   "cell_type": "code",
   "execution_count": 50,
   "id": "3e069928",
   "metadata": {},
   "outputs": [
    {
     "data": {
      "text/plain": [
       "array([[-64,  29],\n",
       "       [-61,  30],\n",
       "       [-80,  39]])"
      ]
     },
     "execution_count": 50,
     "metadata": {},
     "output_type": "execute_result"
    }
   ],
   "source": [
    "a = np.array([[3, 2, 7],\n",
    "              [1, 4, 8],\n",
    "              [2, 5, 10]])\n",
    "b = np.array([[-5, 2],\n",
    "              [0, 1],\n",
    "              [-7, 3]])\n",
    "c = np.dot(a, b)\n",
    "c"
   ]
  },
  {
   "cell_type": "markdown",
   "id": "d02d97c2",
   "metadata": {},
   "source": [
    "## 1.16*. Определить ранги следующих матриц"
   ]
  },
  {
   "cell_type": "markdown",
   "id": "97e744ff",
   "metadata": {},
   "source": [
    "### 1.16.1*"
   ]
  },
  {
   "cell_type": "markdown",
   "id": "994e760f",
   "metadata": {},
   "source": [
    "\\begin{bmatrix}\n",
    "1 & 2 & 4 & 0\\\\\n",
    "3 & 1 & 5 & 2\\\\\n",
    "4 & 0 & 6 & 1\n",
    "\\end{bmatrix}"
   ]
  },
  {
   "cell_type": "code",
   "execution_count": 51,
   "id": "9176e06d",
   "metadata": {},
   "outputs": [
    {
     "data": {
      "text/plain": [
       "3"
      ]
     },
     "execution_count": 51,
     "metadata": {},
     "output_type": "execute_result"
    }
   ],
   "source": [
    "a = np.array([[1, 2, 4, 0],\n",
    "              [3, 1, 5, 2],\n",
    "              [4, 0, 6, 1]])\n",
    "np.linalg.matrix_rank(a)"
   ]
  },
  {
   "cell_type": "markdown",
   "id": "838f1559",
   "metadata": {},
   "source": [
    "### 1.16.2*"
   ]
  },
  {
   "cell_type": "markdown",
   "id": "b278b744",
   "metadata": {},
   "source": [
    "\\begin{bmatrix}\n",
    "4 & 3 & 2 & 1\\\\\n",
    "8 & 1 & 3 & 2\\\\\n",
    "4 & 1 & 6 & 7\\\\\n",
    "12 & 7 & 10 & 9\n",
    "\\end{bmatrix}"
   ]
  },
  {
   "cell_type": "code",
   "execution_count": 52,
   "id": "c5e72923",
   "metadata": {},
   "outputs": [
    {
     "data": {
      "text/plain": [
       "3"
      ]
     },
     "execution_count": 52,
     "metadata": {},
     "output_type": "execute_result"
    }
   ],
   "source": [
    "a = np.array([[4, 3, 2, 1],\n",
    "              [8, 1, 3, 2],\n",
    "              [4, 1, 6, 7],\n",
    "             [12, 7, 10, 9]])\n",
    "np.linalg.matrix_rank(a)"
   ]
  },
  {
   "cell_type": "markdown",
   "id": "d9c0d1a0",
   "metadata": {},
   "source": [
    "### 1.16.3*"
   ]
  },
  {
   "cell_type": "markdown",
   "id": "11b8b99f",
   "metadata": {},
   "source": [
    "\\begin{bmatrix}\n",
    "3 & 4 & 5\\\\\n",
    "6 & 1 & 2\\\\\n",
    "9 & 5 & 7\n",
    "\\end{bmatrix}"
   ]
  },
  {
   "cell_type": "code",
   "execution_count": 53,
   "id": "67e94266",
   "metadata": {},
   "outputs": [
    {
     "data": {
      "text/plain": [
       "2"
      ]
     },
     "execution_count": 53,
     "metadata": {},
     "output_type": "execute_result"
    }
   ],
   "source": [
    "a = np.array([[3, 4, 5],\n",
    "              [6, 1, 2],\n",
    "              [9, 5, 7]])\n",
    "np.linalg.matrix_rank(a)"
   ]
  },
  {
   "cell_type": "markdown",
   "id": "ab16ba16",
   "metadata": {},
   "source": [
    "### 1.16.4*"
   ]
  },
  {
   "cell_type": "markdown",
   "id": "610411dd",
   "metadata": {},
   "source": [
    "\\begin{bmatrix}\n",
    "3 & 4 & 2 & 3\\\\\n",
    "1 & 2 & 3 & 6\\\\\n",
    "10 & 14 & 9 & 15\\\\\n",
    "5 & 8 & 10 & 15\n",
    "\\end{bmatrix}"
   ]
  },
  {
   "cell_type": "code",
   "execution_count": 54,
   "id": "cbe48213",
   "metadata": {},
   "outputs": [
    {
     "data": {
      "text/plain": [
       "3"
      ]
     },
     "execution_count": 54,
     "metadata": {},
     "output_type": "execute_result"
    }
   ],
   "source": [
    "a = np.array([[3, 4, 2, 3],\n",
    "              [1, 2, 3, 6],\n",
    "              [10, 14, 9, 15],\n",
    "             [5, 8, 10, 15]])\n",
    "np.linalg.matrix_rank(a)"
   ]
  }
 ],
 "metadata": {
  "kernelspec": {
   "display_name": "Python 3 (ipykernel)",
   "language": "python",
   "name": "python3"
  },
  "language_info": {
   "codemirror_mode": {
    "name": "ipython",
    "version": 3
   },
   "file_extension": ".py",
   "mimetype": "text/x-python",
   "name": "python",
   "nbconvert_exporter": "python",
   "pygments_lexer": "ipython3",
   "version": "3.11.1"
  }
 },
 "nbformat": 4,
 "nbformat_minor": 5
}
